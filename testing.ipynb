{
 "cells": [
  {
   "cell_type": "code",
   "execution_count": 15,
   "metadata": {},
   "outputs": [],
   "source": [
    "import numpy as np\n",
    "import pandas as pd\n",
    "import plotly.graph_objects as go\n",
    "from plotly.offline import iplot\n",
    "import plotly.io as pio\n",
    "\n",
    "results_dataframe = pd.read_csv(\"data/results.csv\")\n",
    "circuits_dataframe = pd.read_csv(\"data/circuits.csv\")\n",
    "drivers_dataframe = pd.read_csv(\"data/drivers.csv\")\n",
    "races_dataframe = pd.read_csv(\"data/races.csv\")\n",
    "constructor_dataframe = pd.read_csv(\"data/constructors.csv\")"
   ]
  },
  {
   "cell_type": "code",
   "execution_count": 16,
   "metadata": {},
   "outputs": [
    {
     "name": "stderr",
     "output_type": "stream",
     "text": [
      "C:\\Users\\ragna\\AppData\\Local\\Temp\\ipykernel_24012\\2827341090.py:26: SettingWithCopyWarning:\n",
      "\n",
      "\n",
      "A value is trying to be set on a copy of a slice from a DataFrame.\n",
      "Try using .loc[row_indexer,col_indexer] = value instead\n",
      "\n",
      "See the caveats in the documentation: https://pandas.pydata.org/pandas-docs/stable/user_guide/indexing.html#returning-a-view-versus-a-copy\n",
      "\n"
     ]
    }
   ],
   "source": [
    "results_dataframe.head()\n",
    "drivers_dataframe.head()\n",
    "\n",
    "driver_result_dataframe = pd.merge(results_dataframe,drivers_dataframe,on='driverId')\n",
    "race_result_dataframe = pd.merge(driver_result_dataframe,races_dataframe,on='raceId')\n",
    "complete_race_data_dataframe = pd.merge(race_result_dataframe,constructor_dataframe,on='constructorId')\n",
    "\n",
    "# Join Data Frames\n",
    "\n",
    "driver_result_dataframe = pd.merge(results_dataframe,drivers_dataframe,on='driverId')\n",
    "race_result_dataframe = pd.merge(driver_result_dataframe,races_dataframe,on='raceId')\n",
    "complete_race_data_dataframe = pd.merge(race_result_dataframe,constructor_dataframe,on='constructorId')\n",
    "\n",
    "complete_race_data_dataframe.head()\n",
    "\n",
    "#step 4\n",
    "\n",
    "complete_race_data_dataframe = complete_race_data_dataframe.drop(columns=['url_x','url_y','name_y','nationality_y','url','time_y'] )\n",
    "\n",
    "\n",
    "complete_race_data_dataframe.head()\n",
    "\n",
    "#step 5\n",
    "\n",
    "total_wins = complete_race_data_dataframe[(complete_race_data_dataframe['position']== '1')] \n",
    "total_wins['position_mod'] = total_wins['position'].astype(int)\n",
    "total_wins = total_wins.groupby(['driverRef','nationality_x'])['position_mod'].sum().reset_index()\n",
    "total_wins = total_wins.sort_values(by=['position_mod'], ascending=False)\n",
    "total_wins = total_wins.head(10)\n",
    "\n"
   ]
  },
  {
   "cell_type": "code",
   "execution_count": 17,
   "metadata": {},
   "outputs": [
    {
     "data": {
      "text/html": [
       "<iframe\n",
       "    scrolling=\"no\"\n",
       "    width=\"100%\"\n",
       "    height=\"545px\"\n",
       "    src=\"iframe_figures/figure_17.html\"\n",
       "    frameborder=\"0\"\n",
       "    allowfullscreen\n",
       "></iframe>\n"
      ]
     },
     "metadata": {},
     "output_type": "display_data"
    }
   ],
   "source": [
    "\n",
    "\n",
    "#step 6 \n",
    "\n",
    "\n",
    "pio.renderers.default = \"iframe\"\n",
    "\n",
    "chart = go.Figure(data=[\n",
    "    go.Bar(\n",
    "        x=total_wins['driverRef'],\n",
    "        y=total_wins['position_mod'],\n",
    "        hovertext=total_wins['nationality_x']\n",
    "    )\n",
    "])\n",
    "\n",
    "chart.update_layout(\n",
    "    title={\n",
    "        'text': \"TOP 10 DRIVERS WITH MOST WINS IN F1\",\n",
    "        'y': 0.9,\n",
    "        'x': 0.5,\n",
    "        'xanchor': 'center',\n",
    "        'yanchor': 'top'\n",
    "    },\n",
    "    yaxis=dict(\n",
    "        title='No of Wins',\n",
    "        titlefont_size=16,\n",
    "        tickfont_size=14\n",
    "    ),\n",
    "    xaxis=dict(\n",
    "        title='Driver',\n",
    "        titlefont_size=16,\n",
    "        tickfont_size=14\n",
    "    ),\n",
    "    template=\"plotly_dark\"\n",
    ")\n",
    "\n",
    "iplot(chart)"
   ]
  }
 ],
 "metadata": {
  "kernelspec": {
   "display_name": "Python 3",
   "language": "python",
   "name": "python3"
  },
  "language_info": {
   "codemirror_mode": {
    "name": "ipython",
    "version": 3
   },
   "file_extension": ".py",
   "mimetype": "text/x-python",
   "name": "python",
   "nbconvert_exporter": "python",
   "pygments_lexer": "ipython3",
   "version": "3.11.4"
  },
  "orig_nbformat": 4
 },
 "nbformat": 4,
 "nbformat_minor": 2
}
