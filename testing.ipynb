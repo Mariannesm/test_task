{
 "cells": [
  {
   "cell_type": "code",
   "execution_count": 7,
   "metadata": {},
   "outputs": [
    {
     "ename": "SyntaxError",
     "evalue": "invalid character '‘' (U+2018) (2810975206.py, line 3)",
     "output_type": "error",
     "traceback": [
      "\u001b[1;36m  Cell \u001b[1;32mIn[7], line 3\u001b[1;36m\u001b[0m\n\u001b[1;33m    results_dataframe = pd.read_csv(‘G:\\data\\results.csv’)\u001b[0m\n\u001b[1;37m                                    ^\u001b[0m\n\u001b[1;31mSyntaxError\u001b[0m\u001b[1;31m:\u001b[0m invalid character '‘' (U+2018)\n"
     ]
    }
   ],
   "source": [
    "import numpy as np\n",
    "import pandas as pd# Import Data\n",
    "results_dataframe = pd.read_csv(‘G:\\\\data\\results.csv’)\n",
    "circuits_dataframe = pd.read_csv(‘G:\\\\data\\circuits.csv’)\n",
    "drivers_dataframe = pd.read_csv(‘G:\\\\data\\drivers.csv’)\n",
    "races_dataframe = pd.read_csv(‘G:\\\\data\\races.csv’)\n",
    "constructor_dataframe = pd.read_csv(‘G:\\\\data\\constructors.csv’)"
   ]
  }
 ],
 "metadata": {
  "kernelspec": {
   "display_name": "Python 3",
   "language": "python",
   "name": "python3"
  },
  "language_info": {
   "codemirror_mode": {
    "name": "ipython",
    "version": 3
   },
   "file_extension": ".py",
   "mimetype": "text/x-python",
   "name": "python",
   "nbconvert_exporter": "python",
   "pygments_lexer": "ipython3",
   "version": "3.11.5"
  },
  "orig_nbformat": 4
 },
 "nbformat": 4,
 "nbformat_minor": 2
}
